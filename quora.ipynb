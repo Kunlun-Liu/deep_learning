{
 "cells": [
  {
   "cell_type": "markdown",
   "metadata": {},
   "source": [
    "# Quora Questions (LSTM)\n",
    "Kunlun Liu\n",
    "\n",
    "Blog Link\n",
    "https://medium.com/@kunlun.liu/quora-similar-questions-dd8fb5398bfa"
   ]
  },
  {
   "cell_type": "code",
   "execution_count": 1,
   "metadata": {},
   "outputs": [
    {
     "name": "stderr",
     "output_type": "stream",
     "text": [
      "Using TensorFlow backend.\n"
     ]
    }
   ],
   "source": [
    "import numpy as np\n",
    "import pandas as pd\n",
    "from sklearn.feature_extraction.text import CountVectorizer\n",
    "import itertools\n",
    "import re\n",
    "from keras.preprocessing.sequence import pad_sequences\n",
    "from sklearn.model_selection import train_test_split\n",
    "\n",
    "import keras.layers as lyr\n",
    "from keras.models import Model\n",
    "from keras.models import Sequential\n",
    "from keras import regularizers"
   ]
  },
  {
   "cell_type": "code",
   "execution_count": 2,
   "metadata": {
    "collapsed": true
   },
   "outputs": [],
   "source": [
    "df_train = pd.read_csv('D:\\PyCharm Files\\quora\\\\train.csv', encoding='utf-8')\n",
    "df_train['id'] = df_train['id'].apply(str)"
   ]
  },
  {
   "cell_type": "code",
   "execution_count": 3,
   "metadata": {
    "collapsed": true
   },
   "outputs": [],
   "source": [
    "df_test = pd.read_csv('D:\\PyCharm Files\\quora\\\\test.csv', encoding='utf-8')\n",
    "df_test['test_id'] = df_test['test_id'].apply(str)"
   ]
  },
  {
   "cell_type": "code",
   "execution_count": 4,
   "metadata": {
    "collapsed": true
   },
   "outputs": [],
   "source": [
    "df_all = pd.concat((df_train, df_test))\n",
    "df_all['question1'].fillna('', inplace=True)\n",
    "df_all['question2'].fillna('', inplace=True)"
   ]
  },
  {
   "cell_type": "code",
   "execution_count": 5,
   "metadata": {
    "collapsed": true
   },
   "outputs": [],
   "source": [
    "counts_vectorizer = CountVectorizer(max_features=10000-1).fit(\n",
    "    itertools.chain(df_all['question1'], df_all['question2']))\n",
    "other_index = len(counts_vectorizer.vocabulary_)"
   ]
  },
  {
   "cell_type": "code",
   "execution_count": 6,
   "metadata": {
    "collapsed": true
   },
   "outputs": [],
   "source": [
    "words_tokenizer = re.compile(counts_vectorizer.token_pattern)"
   ]
  },
  {
   "cell_type": "code",
   "execution_count": 7,
   "metadata": {
    "collapsed": true
   },
   "outputs": [],
   "source": [
    "def create_padded_seqs(texts, max_len=10):\n",
    "    seqs = texts.apply(lambda s: \n",
    "        [counts_vectorizer.vocabulary_[w] if w in counts_vectorizer.vocabulary_ else other_index\n",
    "         for w in words_tokenizer.findall(s.lower())])\n",
    "    return pad_sequences(seqs, maxlen=max_len)"
   ]
  },
  {
   "cell_type": "code",
   "execution_count": 8,
   "metadata": {
    "collapsed": true
   },
   "outputs": [],
   "source": [
    "df_all = df_all.sample(1000) # Just for debugging"
   ]
  },
  {
   "cell_type": "code",
   "execution_count": 9,
   "metadata": {
    "collapsed": true
   },
   "outputs": [],
   "source": [
    "X1_train, X1_val, X2_train, X2_val, y_train, y_val = \\\n",
    "    train_test_split(create_padded_seqs(df_all[df_all['id'].notnull()]['question1']), \n",
    "                     create_padded_seqs(df_all[df_all['id'].notnull()]['question2']),\n",
    "                     df_all[df_all['id'].notnull()]['is_duplicate'].values,\n",
    "                     stratify=df_all[df_all['id'].notnull()]['is_duplicate'].values,\n",
    "                     test_size=0.3, random_state=19)"
   ]
  },
  {
   "cell_type": "markdown",
   "metadata": {},
   "source": [
    "# Long short-term memory (LSTM) model"
   ]
  },
  {
   "cell_type": "code",
   "execution_count": 104,
   "metadata": {},
   "outputs": [
    {
     "name": "stdout",
     "output_type": "stream",
     "text": [
      "__________________________________________________________________________________________________\n",
      "Layer (type)                    Output Shape         Param #     Connected to                     \n",
      "==================================================================================================\n",
      "input_53 (InputLayer)           (None, 10)           0                                            \n",
      "__________________________________________________________________________________________________\n",
      "input_54 (InputLayer)           (None, 10)           0                                            \n",
      "__________________________________________________________________________________________________\n",
      "embedding_27 (Embedding)        (None, 30, 300)      3000000     input_53[0][0]                   \n",
      "                                                                 input_54[0][0]                   \n",
      "__________________________________________________________________________________________________\n",
      "lstm_27 (LSTM)                  (None, 10)           12440       embedding_27[0][0]               \n",
      "                                                                 embedding_27[1][0]               \n",
      "__________________________________________________________________________________________________\n",
      "concatenate_27 (Concatenate)    (None, 20)           0           lstm_27[0][0]                    \n",
      "                                                                 lstm_27[1][0]                    \n",
      "__________________________________________________________________________________________________\n",
      "dropout_27 (Dropout)            (None, 20)           0           concatenate_27[0][0]             \n",
      "__________________________________________________________________________________________________\n",
      "batch_normalization_48 (BatchNo (None, 20)           80          dropout_27[0][0]                 \n",
      "__________________________________________________________________________________________________\n",
      "dense_53 (Dense)                (None, 6)            126         batch_normalization_48[0][0]     \n",
      "__________________________________________________________________________________________________\n",
      "batch_normalization_49 (BatchNo (None, 6)            24          dense_53[0][0]                   \n",
      "__________________________________________________________________________________________________\n",
      "dense_54 (Dense)                (None, 1)            7           batch_normalization_49[0][0]     \n",
      "==================================================================================================\n",
      "Total params: 3,012,677\n",
      "Trainable params: 12,625\n",
      "Non-trainable params: 3,000,052\n",
      "__________________________________________________________________________________________________\n"
     ]
    }
   ],
   "source": [
    "input1_tensor = lyr.Input(X1_train.shape[1:])\n",
    "input2_tensor = lyr.Input(X2_train.shape[1:])\n",
    "from keras.layers.merge import concatenate\n",
    "from keras.layers.normalization import BatchNormalization\n",
    "\n",
    "MAX_SEQUENCE_LENGTH = 30\n",
    "EMBEDDING_DIM = 300\n",
    "words_embedding_layer = lyr.Embedding(X1_train.max() + 1, EMBEDDING_DIM,input_length=MAX_SEQUENCE_LENGTH,trainable=False)\n",
    "seq_embedding_layer = lyr.LSTM(10, activation='tanh',recurrent_dropout=0.5,kernel_regularizer=regularizers.l1(0.01))\n",
    "seq_embedding = lambda tensor: seq_embedding_layer(words_embedding_layer(tensor))\n",
    "\n",
    "merge_layer = concatenate([seq_embedding(input1_tensor), seq_embedding(input2_tensor)])\n",
    "\n",
    "drop_out_layer = lyr.Dropout(0.5)(merge_layer)\n",
    "normal_layer = BatchNormalization()(drop_out_layer)\n",
    "\n",
    "dense1_layer = lyr.Dense(6, activation=\"tanh\")(normal_layer)\n",
    "normal_layer1 = BatchNormalization()(dense1_layer)\n",
    "ouput_layer = lyr.Dense(1, activation='sigmoid')(normal_layer1)\n",
    "\n",
    "model = Model([input1_tensor, input2_tensor], ouput_layer)\n",
    "\n",
    "model.compile(loss='binary_crossentropy', optimizer='nadam',metrics=['acc'])\n",
    "model.summary()"
   ]
  },
  {
   "cell_type": "code",
   "execution_count": 105,
   "metadata": {},
   "outputs": [
    {
     "name": "stdout",
     "output_type": "stream",
     "text": [
      "Train on 106 samples, validate on 46 samples\n",
      "Epoch 1/100\n",
      "106/106 [==============================] - 7s 64ms/step - loss: 8.8612 - acc: 0.5377 - val_loss: 8.5476 - val_acc: 0.5217\n",
      "Epoch 2/100\n",
      "106/106 [==============================] - 0s 316us/step - loss: 8.6133 - acc: 0.5566 - val_loss: 8.4472 - val_acc: 0.4783\n",
      "Epoch 3/100\n",
      "106/106 [==============================] - 0s 331us/step - loss: 8.3217 - acc: 0.6038 - val_loss: 8.2945 - val_acc: 0.4783\n",
      "Epoch 4/100\n",
      "106/106 [==============================] - 0s 378us/step - loss: 8.2901 - acc: 0.5660 - val_loss: 8.1469 - val_acc: 0.4565\n",
      "Epoch 5/100\n",
      "106/106 [==============================] - 0s 350us/step - loss: 8.0127 - acc: 0.6509 - val_loss: 8.0202 - val_acc: 0.5000\n",
      "Epoch 6/100\n",
      "106/106 [==============================] - 0s 322us/step - loss: 7.8182 - acc: 0.6887 - val_loss: 7.8443 - val_acc: 0.5000\n",
      "Epoch 7/100\n",
      "106/106 [==============================] - 0s 350us/step - loss: 7.6984 - acc: 0.6415 - val_loss: 7.6751 - val_acc: 0.4783\n",
      "Epoch 8/100\n",
      "106/106 [==============================] - 0s 322us/step - loss: 7.5711 - acc: 0.5943 - val_loss: 7.4874 - val_acc: 0.5217\n",
      "Epoch 9/100\n",
      "106/106 [==============================] - 0s 388us/step - loss: 7.3695 - acc: 0.6981 - val_loss: 7.2792 - val_acc: 0.6087\n",
      "Epoch 10/100\n",
      "106/106 [==============================] - 0s 322us/step - loss: 7.1866 - acc: 0.7170 - val_loss: 7.1041 - val_acc: 0.5652\n",
      "Epoch 11/100\n",
      "106/106 [==============================] - 0s 274us/step - loss: 7.0831 - acc: 0.6509 - val_loss: 6.9642 - val_acc: 0.5870\n",
      "Epoch 12/100\n",
      "106/106 [==============================] - 0s 426us/step - loss: 6.8875 - acc: 0.6887 - val_loss: 6.8082 - val_acc: 0.5870\n",
      "Epoch 13/100\n",
      "106/106 [==============================] - 0s 397us/step - loss: 6.6570 - acc: 0.6981 - val_loss: 6.6129 - val_acc: 0.5652\n",
      "Epoch 14/100\n",
      "106/106 [==============================] - 0s 331us/step - loss: 6.5657 - acc: 0.6887 - val_loss: 6.4407 - val_acc: 0.5870\n",
      "Epoch 15/100\n",
      "106/106 [==============================] - 0s 331us/step - loss: 6.2932 - acc: 0.7264 - val_loss: 6.2815 - val_acc: 0.5870\n",
      "Epoch 16/100\n",
      "106/106 [==============================] - 0s 331us/step - loss: 6.1728 - acc: 0.7264 - val_loss: 6.1071 - val_acc: 0.6522\n",
      "Epoch 17/100\n",
      "106/106 [==============================] - 0s 303us/step - loss: 5.9502 - acc: 0.8208 - val_loss: 5.9447 - val_acc: 0.6304\n",
      "Epoch 18/100\n",
      "106/106 [==============================] - 0s 397us/step - loss: 5.7845 - acc: 0.8019 - val_loss: 5.7862 - val_acc: 0.6304\n",
      "Epoch 19/100\n",
      "106/106 [==============================] - 0s 331us/step - loss: 5.6201 - acc: 0.8113 - val_loss: 5.6268 - val_acc: 0.6522\n",
      "Epoch 20/100\n",
      "106/106 [==============================] - 0s 378us/step - loss: 5.4737 - acc: 0.8019 - val_loss: 5.4859 - val_acc: 0.6087\n",
      "Epoch 21/100\n",
      "106/106 [==============================] - 0s 359us/step - loss: 5.3359 - acc: 0.7736 - val_loss: 5.3201 - val_acc: 0.6739\n",
      "Epoch 22/100\n",
      "106/106 [==============================] - 0s 445us/step - loss: 5.1710 - acc: 0.7736 - val_loss: 5.1690 - val_acc: 0.6957\n",
      "Epoch 23/100\n",
      "106/106 [==============================] - 0s 303us/step - loss: 4.9522 - acc: 0.7830 - val_loss: 5.0400 - val_acc: 0.6304\n",
      "Epoch 24/100\n",
      "106/106 [==============================] - 0s 350us/step - loss: 4.7881 - acc: 0.8302 - val_loss: 4.8815 - val_acc: 0.6957\n",
      "Epoch 25/100\n",
      "106/106 [==============================] - 0s 293us/step - loss: 4.6622 - acc: 0.8208 - val_loss: 4.7373 - val_acc: 0.6957\n",
      "Epoch 26/100\n",
      "106/106 [==============================] - 0s 416us/step - loss: 4.4703 - acc: 0.8962 - val_loss: 4.5912 - val_acc: 0.6957\n",
      "Epoch 27/100\n",
      "106/106 [==============================] - 0s 303us/step - loss: 4.3577 - acc: 0.8302 - val_loss: 4.4448 - val_acc: 0.7174\n",
      "Epoch 28/100\n",
      "106/106 [==============================] - 0s 331us/step - loss: 4.2115 - acc: 0.8396 - val_loss: 4.3127 - val_acc: 0.6957\n",
      "Epoch 29/100\n",
      "106/106 [==============================] - 0s 255us/step - loss: 3.9854 - acc: 0.9151 - val_loss: 4.1694 - val_acc: 0.7174\n",
      "Epoch 30/100\n",
      "106/106 [==============================] - 0s 293us/step - loss: 3.8325 - acc: 0.9057 - val_loss: 4.0454 - val_acc: 0.7174\n",
      "Epoch 31/100\n",
      "106/106 [==============================] - 0s 350us/step - loss: 3.7719 - acc: 0.8491 - val_loss: 3.9153 - val_acc: 0.7174\n",
      "Epoch 32/100\n",
      "106/106 [==============================] - 0s 388us/step - loss: 3.5922 - acc: 0.9151 - val_loss: 3.7852 - val_acc: 0.7174\n",
      "Epoch 33/100\n",
      "106/106 [==============================] - 0s 303us/step - loss: 3.4796 - acc: 0.9151 - val_loss: 3.6649 - val_acc: 0.6957\n",
      "Epoch 34/100\n",
      "106/106 [==============================] - 0s 388us/step - loss: 3.3550 - acc: 0.8962 - val_loss: 3.5485 - val_acc: 0.6739\n",
      "Epoch 35/100\n",
      "106/106 [==============================] - 0s 312us/step - loss: 3.1851 - acc: 0.9151 - val_loss: 3.4291 - val_acc: 0.6739\n",
      "Epoch 36/100\n",
      "106/106 [==============================] - 0s 397us/step - loss: 3.0307 - acc: 0.9623 - val_loss: 3.3196 - val_acc: 0.6739\n",
      "Epoch 37/100\n",
      "106/106 [==============================] - 0s 388us/step - loss: 2.9270 - acc: 0.9528 - val_loss: 3.2128 - val_acc: 0.6739\n",
      "Epoch 38/100\n",
      "106/106 [==============================] - 0s 388us/step - loss: 2.8538 - acc: 0.8774 - val_loss: 3.0856 - val_acc: 0.7174\n",
      "Epoch 39/100\n",
      "106/106 [==============================] - 0s 312us/step - loss: 2.7368 - acc: 0.9245 - val_loss: 3.0092 - val_acc: 0.6304\n",
      "Epoch 40/100\n",
      "106/106 [==============================] - 0s 303us/step - loss: 2.5672 - acc: 0.9623 - val_loss: 2.8952 - val_acc: 0.6304\n",
      "Epoch 41/100\n",
      "106/106 [==============================] - 0s 369us/step - loss: 2.4755 - acc: 0.9434 - val_loss: 2.7760 - val_acc: 0.6522\n",
      "Epoch 42/100\n",
      "106/106 [==============================] - 0s 350us/step - loss: 2.3399 - acc: 0.9811 - val_loss: 2.6686 - val_acc: 0.6957\n",
      "Epoch 43/100\n",
      "106/106 [==============================] - 0s 492us/step - loss: 2.2306 - acc: 0.9528 - val_loss: 2.5686 - val_acc: 0.7174\n",
      "Epoch 44/100\n",
      "106/106 [==============================] - 0s 312us/step - loss: 2.1573 - acc: 0.9717 - val_loss: 2.4774 - val_acc: 0.7174\n",
      "Epoch 45/100\n",
      "106/106 [==============================] - 0s 359us/step - loss: 2.0359 - acc: 0.9623 - val_loss: 2.3865 - val_acc: 0.7174\n",
      "Epoch 46/100\n",
      "106/106 [==============================] - 0s 293us/step - loss: 1.9307 - acc: 0.9811 - val_loss: 2.2982 - val_acc: 0.6957\n",
      "Epoch 47/100\n",
      "106/106 [==============================] - 0s 463us/step - loss: 1.8636 - acc: 0.9717 - val_loss: 2.2191 - val_acc: 0.6957\n",
      "Epoch 48/100\n",
      "106/106 [==============================] - 0s 274us/step - loss: 1.7858 - acc: 0.9528 - val_loss: 2.1352 - val_acc: 0.6957\n",
      "Epoch 49/100\n",
      "106/106 [==============================] - 0s 388us/step - loss: 1.6713 - acc: 0.9717 - val_loss: 2.0602 - val_acc: 0.7174\n",
      "Epoch 50/100\n",
      "106/106 [==============================] - 0s 322us/step - loss: 1.5702 - acc: 1.0000 - val_loss: 1.9809 - val_acc: 0.6739\n",
      "Epoch 51/100\n",
      "106/106 [==============================] - 0s 341us/step - loss: 1.5160 - acc: 0.9717 - val_loss: 1.9164 - val_acc: 0.7391\n",
      "Epoch 52/100\n",
      "106/106 [==============================] - 0s 265us/step - loss: 1.4153 - acc: 1.0000 - val_loss: 1.8437 - val_acc: 0.7174\n",
      "Epoch 53/100\n",
      "106/106 [==============================] - 0s 378us/step - loss: 1.3271 - acc: 1.0000 - val_loss: 1.7828 - val_acc: 0.6957\n",
      "Epoch 54/100\n",
      "106/106 [==============================] - 0s 350us/step - loss: 1.2832 - acc: 0.9811 - val_loss: 1.7168 - val_acc: 0.6957\n",
      "Epoch 55/100\n",
      "106/106 [==============================] - 0s 331us/step - loss: 1.2071 - acc: 0.9717 - val_loss: 1.7369 - val_acc: 0.6957\n",
      "Epoch 56/100\n",
      "106/106 [==============================] - 0s 274us/step - loss: 1.1666 - acc: 0.9623 - val_loss: 1.6088 - val_acc: 0.6957\n",
      "Epoch 57/100\n",
      "106/106 [==============================] - 0s 388us/step - loss: 1.0616 - acc: 0.9906 - val_loss: 1.5601 - val_acc: 0.7609\n",
      "Epoch 58/100\n",
      "106/106 [==============================] - 0s 350us/step - loss: 1.0151 - acc: 0.9906 - val_loss: 1.5247 - val_acc: 0.7609\n",
      "Epoch 59/100\n",
      "106/106 [==============================] - 0s 303us/step - loss: 0.9915 - acc: 0.9717 - val_loss: 1.4610 - val_acc: 0.6522\n",
      "Epoch 60/100\n",
      "106/106 [==============================] - 0s 293us/step - loss: 0.9098 - acc: 0.9906 - val_loss: 1.4125 - val_acc: 0.6957\n"
     ]
    },
    {
     "name": "stdout",
     "output_type": "stream",
     "text": [
      "Epoch 61/100\n",
      "106/106 [==============================] - 0s 303us/step - loss: 0.8736 - acc: 0.9623 - val_loss: 1.4412 - val_acc: 0.7174\n",
      "Epoch 62/100\n",
      "106/106 [==============================] - 0s 407us/step - loss: 0.8142 - acc: 1.0000 - val_loss: 1.3493 - val_acc: 0.7609\n",
      "Epoch 63/100\n",
      "106/106 [==============================] - 0s 303us/step - loss: 0.7630 - acc: 1.0000 - val_loss: 1.2858 - val_acc: 0.6957\n",
      "Epoch 64/100\n",
      "106/106 [==============================] - 0s 284us/step - loss: 0.7318 - acc: 1.0000 - val_loss: 1.2555 - val_acc: 0.6957\n",
      "Epoch 65/100\n",
      "106/106 [==============================] - 0s 359us/step - loss: 0.7038 - acc: 0.9906 - val_loss: 1.3097 - val_acc: 0.6957\n",
      "Epoch 66/100\n",
      "106/106 [==============================] - 0s 350us/step - loss: 0.6762 - acc: 0.9906 - val_loss: 1.2338 - val_acc: 0.7609\n",
      "Epoch 67/100\n",
      "106/106 [==============================] - 0s 359us/step - loss: 0.6438 - acc: 0.9906 - val_loss: 1.1912 - val_acc: 0.7174\n",
      "Epoch 68/100\n",
      "106/106 [==============================] - 0s 331us/step - loss: 0.6350 - acc: 0.9717 - val_loss: 1.1787 - val_acc: 0.7391\n",
      "Epoch 69/100\n",
      "106/106 [==============================] - 0s 284us/step - loss: 0.5914 - acc: 1.0000 - val_loss: 1.1428 - val_acc: 0.6957\n",
      "Epoch 70/100\n",
      "106/106 [==============================] - 0s 359us/step - loss: 0.5796 - acc: 0.9906 - val_loss: 1.2357 - val_acc: 0.6957\n",
      "Epoch 71/100\n",
      "106/106 [==============================] - 0s 378us/step - loss: 0.5690 - acc: 0.9906 - val_loss: 1.1352 - val_acc: 0.6522\n",
      "Epoch 72/100\n",
      "106/106 [==============================] - 0s 350us/step - loss: 0.5339 - acc: 1.0000 - val_loss: 1.1122 - val_acc: 0.6739\n",
      "Epoch 73/100\n",
      "106/106 [==============================] - 0s 331us/step - loss: 0.5189 - acc: 1.0000 - val_loss: 1.1259 - val_acc: 0.7174\n",
      "Epoch 74/100\n",
      "106/106 [==============================] - 0s 341us/step - loss: 0.5271 - acc: 0.9906 - val_loss: 1.1051 - val_acc: 0.7174\n",
      "Epoch 75/100\n",
      "106/106 [==============================] - 0s 341us/step - loss: 0.4840 - acc: 1.0000 - val_loss: 1.1009 - val_acc: 0.7391\n",
      "Epoch 76/100\n",
      "106/106 [==============================] - 0s 378us/step - loss: 0.4781 - acc: 1.0000 - val_loss: 1.2169 - val_acc: 0.6957\n",
      "Epoch 77/100\n",
      "106/106 [==============================] - 0s 341us/step - loss: 0.4615 - acc: 0.9906 - val_loss: 1.0547 - val_acc: 0.7391\n",
      "Epoch 78/100\n",
      "106/106 [==============================] - 0s 312us/step - loss: 0.4645 - acc: 1.0000 - val_loss: 1.0936 - val_acc: 0.6957\n",
      "Epoch 79/100\n",
      "106/106 [==============================] - 0s 322us/step - loss: 0.4558 - acc: 0.9906 - val_loss: 1.0310 - val_acc: 0.6957\n",
      "Epoch 80/100\n",
      "106/106 [==============================] - 0s 378us/step - loss: 0.4385 - acc: 0.9717 - val_loss: 1.1001 - val_acc: 0.7174\n",
      "Epoch 81/100\n",
      "106/106 [==============================] - 0s 407us/step - loss: 0.4197 - acc: 0.9906 - val_loss: 1.0179 - val_acc: 0.6739\n",
      "Epoch 82/100\n",
      "106/106 [==============================] - 0s 312us/step - loss: 0.4353 - acc: 0.9906 - val_loss: 1.3570 - val_acc: 0.6304\n",
      "Epoch 83/100\n",
      "106/106 [==============================] - 0s 397us/step - loss: 0.4692 - acc: 0.9623 - val_loss: 1.5563 - val_acc: 0.4783\n",
      "Epoch 84/100\n",
      "106/106 [==============================] - 0s 312us/step - loss: 0.6249 - acc: 0.8868 - val_loss: 1.1224 - val_acc: 0.6957\n",
      "Epoch 85/100\n",
      "106/106 [==============================] - 0s 341us/step - loss: 0.4362 - acc: 0.9906 - val_loss: 1.0698 - val_acc: 0.6957\n",
      "Epoch 86/100\n",
      "106/106 [==============================] - 0s 331us/step - loss: 0.4098 - acc: 0.9906 - val_loss: 1.0491 - val_acc: 0.7174\n",
      "Epoch 87/100\n",
      "106/106 [==============================] - 0s 378us/step - loss: 0.3946 - acc: 0.9906 - val_loss: 1.1281 - val_acc: 0.6957\n",
      "Epoch 88/100\n",
      "106/106 [==============================] - 0s 341us/step - loss: 0.3929 - acc: 1.0000 - val_loss: 1.0090 - val_acc: 0.6957\n",
      "Epoch 89/100\n",
      "106/106 [==============================] - 0s 388us/step - loss: 0.3658 - acc: 1.0000 - val_loss: 1.0621 - val_acc: 0.7391\n",
      "Epoch 90/100\n",
      "106/106 [==============================] - 0s 397us/step - loss: 0.3507 - acc: 1.0000 - val_loss: 1.0104 - val_acc: 0.7391\n",
      "Epoch 91/100\n",
      "106/106 [==============================] - 0s 312us/step - loss: 0.3394 - acc: 1.0000 - val_loss: 1.0178 - val_acc: 0.7174\n",
      "Epoch 92/100\n",
      "106/106 [==============================] - 0s 359us/step - loss: 0.3360 - acc: 1.0000 - val_loss: 0.9565 - val_acc: 0.7391\n",
      "Epoch 93/100\n",
      "106/106 [==============================] - 0s 312us/step - loss: 0.3438 - acc: 0.9811 - val_loss: 1.4605 - val_acc: 0.6087\n",
      "Epoch 94/100\n",
      "106/106 [==============================] - 0s 350us/step - loss: 0.4876 - acc: 0.8868 - val_loss: 1.3670 - val_acc: 0.4783\n",
      "Epoch 95/100\n",
      "106/106 [==============================] - 0s 293us/step - loss: 0.4357 - acc: 0.9528 - val_loss: 0.9793 - val_acc: 0.7391\n",
      "Epoch 96/100\n",
      "106/106 [==============================] - 0s 341us/step - loss: 0.4004 - acc: 0.9623 - val_loss: 0.9590 - val_acc: 0.7174\n",
      "Epoch 97/100\n",
      "106/106 [==============================] - 0s 331us/step - loss: 0.3536 - acc: 0.9906 - val_loss: 0.9637 - val_acc: 0.7174\n",
      "Epoch 98/100\n",
      "106/106 [==============================] - 0s 350us/step - loss: 0.3426 - acc: 1.0000 - val_loss: 1.0673 - val_acc: 0.6957\n",
      "Epoch 99/100\n",
      "106/106 [==============================] - 0s 341us/step - loss: 0.3169 - acc: 1.0000 - val_loss: 0.9831 - val_acc: 0.6739\n",
      "Epoch 100/100\n",
      "106/106 [==============================] - 0s 369us/step - loss: 0.3136 - acc: 1.0000 - val_loss: 0.9325 - val_acc: 0.7391\n"
     ]
    }
   ],
   "source": [
    "history = model.fit([X1_train, X2_train], y_train, \n",
    "          validation_data=([X1_val, X2_val], y_val), \n",
    "          batch_size=1024, epochs=100, verbose=1)"
   ]
  },
  {
   "cell_type": "code",
   "execution_count": 106,
   "metadata": {},
   "outputs": [
    {
     "data": {
      "image/png": "[encoded data removed]",
      "text/plain": [
       "<matplotlib.figure.Figure at 0x24c00e81860>"
      ]
     },
     "metadata": {},
     "output_type": "display_data"
    },
    {
     "data": {
      "image/png": "[encoded data removed]",
      "text/plain": [
       "<matplotlib.figure.Figure at 0x24c0093ca58>"
      ]
     },
     "metadata": {},
     "output_type": "display_data"
    }
   ],
   "source": [
    "import matplotlib.pyplot as plt\n",
    "\n",
    "acc = history.history['acc']\n",
    "val_acc = history.history['val_acc']\n",
    "loss = history.history['loss']\n",
    "val_loss = history.history['val_loss']\n",
    "\n",
    "epochs = range(len(acc))\n",
    "\n",
    "plt.plot(epochs, acc, 'bo', label='Training acc')\n",
    "plt.plot(epochs, val_acc, 'b', label='Validation acc')\n",
    "plt.title('Training and validation accuracy')\n",
    "plt.legend()\n",
    "\n",
    "plt.figure()\n",
    "\n",
    "plt.plot(epochs, loss, 'bo', label='Training loss')\n",
    "plt.plot(epochs, val_loss, 'b', label='Validation loss')\n",
    "plt.title('Training and validation loss')\n",
    "plt.legend()\n",
    "\n",
    "plt.show()"
   ]
  },
  {
   "cell_type": "markdown",
   "metadata": {},
   "source": [
    "# Model Evaluation"
   ]
  },
  {
   "cell_type": "code",
   "execution_count": 117,
   "metadata": {},
   "outputs": [
    {
     "name": "stdout",
     "output_type": "stream",
     "text": [
      "\r",
      "46/46 [==============================] - 0s 2ms/step\n"
     ]
    },
    {
     "data": {
      "text/plain": [
       "[0.93247699737548828, 0.73913043737411499]"
      ]
     },
     "execution_count": 117,
     "metadata": {},
     "output_type": "execute_result"
    }
   ],
   "source": [
    "model.evaluate(x=[X1_val, X2_val], y=y_val, batch_size=1024, verbose=1, sample_weight=None, steps=None)"
   ]
  },
  {
   "cell_type": "code",
   "execution_count": 118,
   "metadata": {},
   "outputs": [
    {
     "name": "stdout",
     "output_type": "stream",
     "text": [
      "\r",
      "46/46 [==============================] - 5s 102ms/step\n"
     ]
    }
   ],
   "source": [
    "preds = model.predict([X1_val, X2_val], batch_size=8192, verbose=1)\n"
   ]
  },
  {
   "cell_type": "code",
   "execution_count": 123,
   "metadata": {},
   "outputs": [
    {
     "data": {
      "text/plain": [
       "array([0, 1, 1, 0, 1, 1, 1, 1, 1, 1, 0, 0, 1, 0, 1, 1, 0, 1, 1, 1, 1, 1, 1,\n",
       "       1, 1, 1, 1, 1, 1, 1, 1, 0, 0, 0, 1, 0, 0, 1, 0, 1, 1, 1, 0, 1, 1, 1])"
      ]
     },
     "execution_count": 123,
     "metadata": {},
     "output_type": "execute_result"
    }
   ],
   "source": [
    "preds1 = []\n",
    "for i in range(len(preds)):\n",
    "    if preds[i][0] < 0.5:\n",
    "        preds1.append(1)\n",
    "    else:\n",
    "        preds1.append(0)\n",
    "np.array(preds1)"
   ]
  },
  {
   "cell_type": "code",
   "execution_count": 120,
   "metadata": {},
   "outputs": [
    {
     "data": {
      "text/plain": [
       "array([ 0.,  1.,  0.,  1.,  0.,  0.,  1.,  0.,  0.,  0.,  1.,  0.,  0.,\n",
       "        0.,  0.,  0.,  1.,  0.,  0.,  1.,  0.,  1.,  1.,  0.,  0.,  0.,\n",
       "        0.,  0.,  0.,  1.,  0.,  1.,  1.,  1.,  1.,  1.,  1.,  0.,  1.,\n",
       "        1.,  0.,  0.,  1.,  0.,  0.,  1.])"
      ]
     },
     "execution_count": 120,
     "metadata": {},
     "output_type": "execute_result"
    }
   ],
   "source": [
    "y_val"
   ]
  },
  {
   "cell_type": "code",
   "execution_count": null,
   "metadata": {
    "collapsed": true
   },
   "outputs": [],
   "source": []
  }
 ],
 "metadata": {
  "kernelspec": {
   "display_name": "Python 3",
   "language": "python",
   "name": "python3"
  },
  "language_info": {
   "codemirror_mode": {
    "name": "ipython",
    "version": 3
   },
   "file_extension": ".py",
   "mimetype": "text/x-python",
   "name": "python",
   "nbconvert_exporter": "python",
   "pygments_lexer": "ipython3",
   "version": "3.6.3"
  }
 },
 "nbformat": 4,
 "nbformat_minor": 2
}
